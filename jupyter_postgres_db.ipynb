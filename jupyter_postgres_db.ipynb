{
 "cells": [
  {
   "cell_type": "markdown",
   "id": "61847f62",
   "metadata": {},
   "source": [
    "# Interacting with SQL Databases Using Langchain's SQL Agents"
   ]
  },
  {
   "cell_type": "markdown",
   "id": "9b8df3dd",
   "metadata": {},
   "source": [
    "## Libraries and Settings"
   ]
  },
  {
   "cell_type": "code",
   "execution_count": null,
   "id": "b027d889",
   "metadata": {},
   "outputs": [],
   "source": [
    "# Libraries\n",
    "import os\n",
    "import json\n",
    "import pandas as pd\n",
    "from sqlalchemy import create_engine, text\n",
    "import matplotlib.pyplot as plt\n",
    "\n",
    "from langchain.utilities import SQLDatabase\n",
    "from langchain.llms import OpenAI\n",
    "from langchain.agents import create_sql_agent\n",
    "from langchain.agents.agent_toolkits import SQLDatabaseToolkit\n",
    "from langchain.agents.agent_types import AgentType\n",
    "\n",
    "# Read OpenAI API key\n",
    "try:\n",
    "    with open('/workspace/credentials.json') as f:\n",
    "        credentials = json.load(f)\n",
    "    api_key = credentials['openai']['api_key']\n",
    "except:\n",
    "    print(\"Please provide your OpenAI API key in the credentials.json file.\")\n",
    "\n",
    "# Settings\n",
    "import warnings\n",
    "warnings.filterwarnings(\"ignore\")\n",
    "\n",
    "# Current working directory\n",
    "print(os.getcwd())"
   ]
  },
  {
   "cell_type": "markdown",
   "id": "53f4b234",
   "metadata": {},
   "source": [
    "## Read apartment data to data frame"
   ]
  },
  {
   "cell_type": "code",
   "execution_count": null,
   "id": "ef32ffa2-1859-48af-a78c-0f1b5748fc98",
   "metadata": {},
   "outputs": [],
   "source": [
    "# Read apartment data\n",
    "df = pd.read_csv('/workspace/apartments_data_prepared.csv', sep=',')\n",
    "df.head(5)"
   ]
  },
  {
   "cell_type": "markdown",
   "id": "66164662",
   "metadata": {},
   "source": [
    "## Write data to database"
   ]
  },
  {
   "cell_type": "code",
   "execution_count": null,
   "id": "cfd07b2d-1b23-4c93-b3f9-ccc3dcc73c31",
   "metadata": {},
   "outputs": [],
   "source": [
    "# Create connection\n",
    "engine = create_engine('postgresql://pguser:geheim@db:5432/postgres')\n",
    "\n",
    "# Write data to table\n",
    "df.to_sql('apartment_table', engine, if_exists='replace')\n",
    "\n",
    "# Dispose the engine\n",
    "engine.dispose()"
   ]
  },
  {
   "cell_type": "markdown",
   "id": "5c01d582",
   "metadata": {},
   "source": [
    "## List tables in the database"
   ]
  },
  {
   "cell_type": "code",
   "execution_count": null,
   "id": "288c472a",
   "metadata": {},
   "outputs": [],
   "source": [
    "# Create a connection\n",
    "engine = create_engine('postgresql://pguser:geheim@db:5432/postgres')\n",
    "\n",
    "# Open a connection\n",
    "with engine.connect() as connection:\n",
    "\n",
    "    # Execute the query\n",
    "    result = connection.execute(text(\"\"\"SELECT table_name\n",
    "                                        FROM information_schema.tables\n",
    "                                        WHERE table_schema = 'public'\"\"\"))\n",
    "    \n",
    "    # Fetch and print the results\n",
    "    for row in result:\n",
    "        print(row[0])\n",
    "\n",
    "# Dispose the engine\n",
    "engine.dispose()"
   ]
  },
  {
   "cell_type": "markdown",
   "id": "2b80dc61",
   "metadata": {},
   "source": [
    "## Make standard SQL query to select data"
   ]
  },
  {
   "cell_type": "code",
   "execution_count": null,
   "id": "077a187d-05be-4c30-a367-a4e1a19d4466",
   "metadata": {},
   "outputs": [],
   "source": [
    "# Create a connection\n",
    "engine = create_engine('postgresql://pguser:geheim@db:5432/postgres')\n",
    "\n",
    "# Write data to table\n",
    "df_sub = pd.read_sql_query('''SELECT\n",
    "                              address_raw,\n",
    "                              rooms,\n",
    "                              area,\n",
    "                              price\n",
    "                              FROM apartment_table\n",
    "                              WHERE price >= 1000''', \n",
    "                          con=engine)\n",
    "\n",
    "# Dispose the engine\n",
    "engine.dispose()\n",
    "\n",
    "# Show the data\n",
    "df_sub.head()"
   ]
  },
  {
   "cell_type": "markdown",
   "id": "843d0328",
   "metadata": {},
   "source": [
    "## Count number of apartments in table"
   ]
  },
  {
   "cell_type": "code",
   "execution_count": null,
   "id": "3768f5e6",
   "metadata": {},
   "outputs": [],
   "source": [
    "# Create a connection\n",
    "engine = create_engine('postgresql://pguser:geheim@db:5432/postgres')\n",
    "\n",
    "# Count number of apartments\n",
    "count_query = '''SELECT COUNT(*) as apartment_count\n",
    "                 FROM apartment_table'''\n",
    "\n",
    "# Execute the query and fetch the result\n",
    "result = pd.read_sql_query(count_query, con=engine)\n",
    "\n",
    "# Dispose the engine\n",
    "engine.dispose()\n",
    "\n",
    "# Show the count\n",
    "print(\"Number of apartments:\", result['apartment_count'].iloc[0])"
   ]
  },
  {
   "cell_type": "markdown",
   "id": "2b3fd6dc",
   "metadata": {},
   "source": [
    "## Calculate average price of selected apartments"
   ]
  },
  {
   "cell_type": "code",
   "execution_count": null,
   "id": "7e5312b1",
   "metadata": {},
   "outputs": [],
   "source": [
    "# Create a connection\n",
    "engine = create_engine('postgresql://pguser:geheim@db:5432/postgres')\n",
    "\n",
    "# Query to get the average price of apartments with 3.5 rooms and >= 100m² living area\n",
    "query = '''SELECT AVG(price) as average_price\n",
    "           FROM apartment_table\n",
    "           WHERE rooms = 3.5 \n",
    "           AND area >= 100'''\n",
    "\n",
    "# Execute the query and fetch the result\n",
    "result = pd.read_sql_query(query, con=engine)\n",
    "\n",
    "# Dispose the engine\n",
    "engine.dispose()\n",
    "\n",
    "# Show the average price\n",
    "print(\"Average price of apartments with 3.5 rooms and >= 100m² living area:\", result['average_price'].iloc[0])"
   ]
  },
  {
   "cell_type": "markdown",
   "id": "e8e31dc5",
   "metadata": {},
   "source": [
    "## Plot apartment prices"
   ]
  },
  {
   "cell_type": "code",
   "execution_count": null,
   "id": "2d2abc9d",
   "metadata": {},
   "outputs": [],
   "source": [
    "# Plot Histogram\n",
    "fig = plt.figure( figsize=(7,4))\n",
    "plt.xticks(fontsize=14, rotation=0)\n",
    "plt.yticks(fontsize=14, rotation=0)\n",
    "n, bins, patches = plt.hist(x=df_sub['price'], \n",
    "                            bins=20, \n",
    "                            color='#5DADE2',\n",
    "                            alpha=1.00, \n",
    "                            rwidth=0.95\n",
    "                   )\n",
    "plt.grid(True)\n",
    "plt.ticklabel_format(style='plain')\n",
    "plt.grid(axis='y', alpha=0.75)\n",
    "\n",
    "# Set labels\n",
    "plt.xlabel('price', fontsize=10, labelpad=10)\n",
    "plt.ylabel('Frequency', fontsize=10, labelpad=10)\n",
    "plt.title('Histogram of apartment prices', fontsize=12, pad=10)\n",
    "\n",
    "# Set fontsize of tick labels\n",
    "plt.xticks(fontsize = 10)\n",
    "plt.yticks(fontsize = 10)\n",
    "\n",
    "plt.show()"
   ]
  },
  {
   "cell_type": "markdown",
   "id": "1a6edc28",
   "metadata": {},
   "source": [
    "## Use an SQL Database Agent with LangChain to query the database"
   ]
  },
  {
   "cell_type": "markdown",
   "id": "4318c13e",
   "metadata": {},
   "source": [
    "### Instantiate the LLM"
   ]
  },
  {
   "cell_type": "code",
   "execution_count": null,
   "id": "b4e9d907",
   "metadata": {},
   "outputs": [],
   "source": [
    "# Initialize the OpenAI language model\n",
    "llm = OpenAI(temperature=0, verbose=True, openai_api_key=api_key)"
   ]
  },
  {
   "cell_type": "markdown",
   "id": "43b7bd25",
   "metadata": {},
   "source": [
    "### Create the SQL agent executor"
   ]
  },
  {
   "cell_type": "code",
   "execution_count": null,
   "id": "12d61d54",
   "metadata": {},
   "outputs": [],
   "source": [
    "# Create the SQL database connection\n",
    "db = SQLDatabase.from_uri('postgresql://pguser:geheim@db:5432/postgres')\n",
    "\n",
    "# Create the SQL agent executor\n",
    "agent_executor = create_sql_agent(\n",
    "    llm=llm,\n",
    "    toolkit=SQLDatabaseToolkit(db=db, llm=llm),\n",
    "    verbose=True,\n",
    "    agent_type=AgentType.ZERO_SHOT_REACT_DESCRIPTION)"
   ]
  },
  {
   "cell_type": "markdown",
   "id": "ccc01c6f",
   "metadata": {},
   "source": [
    "### Let the agent query the database (1st example)"
   ]
  },
  {
   "cell_type": "code",
   "execution_count": null,
   "id": "f0fd87c0",
   "metadata": {},
   "outputs": [],
   "source": [
    "# Define the question\n",
    "agent_executor.run(\"\"\"Describe the table apartment_table\"\"\")"
   ]
  },
  {
   "cell_type": "markdown",
   "id": "50138830",
   "metadata": {},
   "source": [
    "### Let the agent query the database (2nd example)"
   ]
  },
  {
   "cell_type": "code",
   "execution_count": null,
   "id": "adc394f1",
   "metadata": {},
   "outputs": [],
   "source": [
    "# Define the question\n",
    "agent_executor.run(\"\"\"How many unique apartments are in the table apartment_table?\"\"\")"
   ]
  },
  {
   "cell_type": "markdown",
   "id": "2a754e4c",
   "metadata": {},
   "source": [
    "### Let the agent query the database (3nd example)"
   ]
  },
  {
   "cell_type": "code",
   "execution_count": null,
   "id": "f631aac5",
   "metadata": {},
   "outputs": [],
   "source": [
    "agent_executor.run(\n",
    "    \"\"\"What is the average price of apartments with 3.5 rooms \n",
    "    and >= 100m2 living area in the table apartment_table?\"\"\")"
   ]
  },
  {
   "attachments": {},
   "cell_type": "markdown",
   "id": "ff525b1e",
   "metadata": {},
   "source": [
    "### Jupyter notebook --footer info-- (please always provide this at the end of each notebook)"
   ]
  },
  {
   "cell_type": "code",
   "execution_count": null,
   "id": "e6cae5b2",
   "metadata": {},
   "outputs": [],
   "source": [
    "import os\n",
    "import platform\n",
    "import socket\n",
    "from platform import python_version\n",
    "from datetime import datetime\n",
    "\n",
    "print('-----------------------------------')\n",
    "print(os.name.upper())\n",
    "print(platform.system(), '|', platform.release())\n",
    "print('Datetime:', datetime.now().strftime(\"%Y-%m-%d %H:%M:%S\"))\n",
    "print('Python Version:', python_version())\n",
    "print('-----------------------------------')"
   ]
  }
 ],
 "metadata": {
  "kernelspec": {
   "display_name": "Python 3",
   "language": "python",
   "name": "python3"
  },
  "language_info": {
   "codemirror_mode": {
    "name": "ipython",
    "version": 3
   },
   "file_extension": ".py",
   "mimetype": "text/x-python",
   "name": "python",
   "nbconvert_exporter": "python",
   "pygments_lexer": "ipython3",
   "version": "3.12.4"
  }
 },
 "nbformat": 4,
 "nbformat_minor": 5
}
